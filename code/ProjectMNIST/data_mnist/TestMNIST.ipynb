{
 "cells": [
  {
   "cell_type": "code",
   "execution_count": 4,
   "metadata": {},
   "outputs": [],
   "source": [
    "import sys, os\n",
    "sys.path.append(os.pardir)\n",
    "import numpy as np\n",
    "import pickle\n",
    "from data_mnist.mnist import load_mnist\n",
    "from common.function import sigmoid, softmax\n",
    "from PIL import Image"
   ]
  },
  {
   "cell_type": "markdown",
   "metadata": {},
   "source": [
    "## 모듈 가져오기\n",
    "- 기본 모듈 가져오기 (sys, os, numpy, pickle, PIL)\n",
    "- 만들어 둔 함수를 가져오기 (sigmoid, softmax)\n",
    "- mnist 자료 가져오기 (mnist.py 안에 있는 load_mnist 함수)\n",
    "- github 에서 function.py, mnist.py, sample_weight.pkl 가져오기\n",
    "   * 현재 디렉토리 아래에 \\common\\ 디렉토리 만들고 **\"function.py\"** 저장\n",
    "   * 현재 디렉토리 아래에 \\data_mnist\\ 디렉토리 만들고 **\"mnist.py\"** 저장\n",
    "   * 현재 디렉토리에 **\"sample_weight.pkl\"** 저장\n",
    "   * https://github.com/eventia/deepLearningOpenLecture/tree/master/Step07_MNIST\n",
    "   * https://goo.gl/p8F24N"
   ]
  },
  {
   "cell_type": "code",
   "execution_count": 7,
   "metadata": {},
   "outputs": [],
   "source": [
    "(x_train, t_train), (x_test, t_test) = load_mnist(flatten=True, normalize=False)"
   ]
  },
  {
   "cell_type": "markdown",
   "metadata": {},
   "source": [
    "### mnist 가져오기\n",
    "#### 학습할 자료\n",
    "- x_train, t_train\n",
    "\n",
    "#### 검증(테스트)할 자료\n",
    "- x_test, t_test"
   ]
  },
  {
   "cell_type": "code",
   "execution_count": 8,
   "metadata": {},
   "outputs": [
    {
     "name": "stdout",
     "output_type": "stream",
     "text": [
      "(60000, 784)\n",
      "(60000,)\n",
      "(10000, 784)\n",
      "(10000,)\n"
     ]
    }
   ],
   "source": [
    "print(x_train.shape)\n",
    "print(t_train.shape)\n",
    "print(x_test.shape)\n",
    "print(t_test.shape)\n"
   ]
  },
  {
   "cell_type": "code",
   "execution_count": 10,
   "metadata": {},
   "outputs": [
    {
     "name": "stdout",
     "output_type": "stream",
     "text": [
      "5\n",
      "(784,)\n",
      "(28, 28)\n"
     ]
    }
   ],
   "source": [
    "def img_show(img):\n",
    "    pil_img = Image.fromarray(np.uint8(img))\n",
    "    pil_img.show()\n",
    "    \n",
    "img = x_train[35]\n",
    "label = t_train[35]\n",
    "print(label)\n",
    "\n",
    "print(img.shape)  # 784\n",
    "img = img.reshape(28,28)\n",
    "print(img.shape)  # 28,28\n",
    "img_show(img)\n"
   ]
  },
  {
   "cell_type": "code",
   "execution_count": 15,
   "metadata": {},
   "outputs": [],
   "source": [
    "def get_data():\n",
    "    (x_train, t_train), (x_test, t_test) = load_mnist(flatten=True, normalize=True, one_hot_label=False)\n",
    "    return x_test, t_test\n",
    "\n",
    "def init_network():\n",
    "    with open(\"sample_weight.pkl\", 'rb') as f:\n",
    "        network = pickle.load(f)\n",
    "    return network\n",
    "\n",
    "def predict(network, x):\n",
    "    W1, W2, W3 = network['W1'], network['W2'], network['W3']\n",
    "    b1, b2, b3 = network['b1'], network['b2'], network['b3']\n",
    "    a1 = np.dot(x, W1) + b1\n",
    "    z1 = sigmoid(a1)\n",
    "    a2 = np.dot(z1, W2) + b2\n",
    "    z2 = sigmoid(a2)\n",
    "    a3 = np.dot(z2, W3) + b3\n",
    "    y = softmax(a3)\n",
    "    return y"
   ]
  },
  {
   "cell_type": "code",
   "execution_count": 26,
   "metadata": {},
   "outputs": [
    {
     "name": "stdout",
     "output_type": "stream",
     "text": [
      "Accuracy:0.9352\n"
     ]
    }
   ],
   "source": [
    "x,t = get_data()\n",
    "network = init_network()\n",
    "accuracy_cnt = 0\n",
    "for i in range(len(x)):\n",
    "    y = predict(network, x[i])\n",
    "    p = np.argmax(y)\n",
    "    if p == t[i]:\n",
    "        accuracy_cnt += 1\n",
    "print(\"Accuracy:\" + str(float(accuracy_cnt/len(x))))\n",
    "    "
   ]
  },
  {
   "cell_type": "code",
   "execution_count": 19,
   "metadata": {},
   "outputs": [],
   "source": [
    "x,_ = get_data()\n",
    "network = init_network()\n",
    "W1,W2,W3 = network['W1'], network['W2'], network['W3']"
   ]
  },
  {
   "cell_type": "code",
   "execution_count": 21,
   "metadata": {},
   "outputs": [
    {
     "name": "stdout",
     "output_type": "stream",
     "text": [
      "(10000, 784) (784, 50) (50, 100) (100, 10) (10,)\n",
      "(784,) (784, 50) (50, 100) (100, 10) (10,)\n"
     ]
    }
   ],
   "source": [
    "print(x.shape, W1.shape, W2.shape, W3.shape, y.shape)\n",
    "print(x[0].shape, W1.shape, W2.shape, W3.shape, y.shape)"
   ]
  },
  {
   "cell_type": "markdown",
   "metadata": {},
   "source": [
    "\\begin{matrix}\n",
    "10000번 반복 - 1개 : &X   &W1           &W2 &W3  &\\Longrightarrow &Y        \\\\\n",
    "&784   &784 \\times 50   &50 \\times 100 &100 \\times 10  &\\Longrightarrow  &10  \\\\\\\\\n",
    "1번 - 10000개 : &X   &W1           &W2 &W3  &\\Longrightarrow &Y        \\\\\n",
    "&10000 \\times 784   &784 \\times 50   &50 \\times 100 &100 \\times 10  &\\Longrightarrow  &10000 \\times 10  \\\\\\\\\n",
    "M번 반복 - N개 : &X   &W1           &W2 &W3  &\\Longrightarrow &Y        \\\\\n",
    "&N \\times 784   &784 \\times 50   &50 \\times 100 &100 \\times 10  &\\Longrightarrow  &N \\times 10  \\\\\n",
    "\\end{matrix}"
   ]
  },
  {
   "cell_type": "markdown",
   "metadata": {},
   "source": [
    "## 배치처리\n",
    "- IO (입력 Input, 출력 Output) 에 상대적으로 많은 시간 소요\n",
    "- 메모리가 허용하는 한 한번에 많은 데이터를 읽어옴\n",
    "- 1장씩 사진을 처리하면 1장씩 10000번을 읽어와야 하지만\n",
    "- 100장씩 사진을 처리하면 100장씩 100번을 읽어오면 됨 \n",
    "- 즉, 1장씩 1만번 읽기를 반복하는건 보다 100장씩 100번 반복에 걸리는 시간이 짧음\n",
    "- 큰 배열을 계산하는 것이 작은 배열을 여러번 계산하는 것보다 빠름"
   ]
  },
  {
   "cell_type": "code",
   "execution_count": 25,
   "metadata": {},
   "outputs": [
    {
     "name": "stdout",
     "output_type": "stream",
     "text": [
      "Accuracy:0.9352\n"
     ]
    }
   ],
   "source": [
    "x,t = get_data()\n",
    "network = init_network()\n",
    "\n",
    "batch_size = 100\n",
    "accuracy_cnt = 0\n",
    "\n",
    "for i in range(0,len(x),batch_size):\n",
    "    x_batch = x[i:i+batch_size]\n",
    "    y_batch = predict(network, x_batch)\n",
    "    p = np.argmax(y_batch, axis=1)\n",
    "    accuracy_cnt += np.sum(p==t[i:i+batch_size])\n",
    "\n",
    "print(\"Accuracy:\" + str(float(accuracy_cnt/len(x))))"
   ]
  },
  {
   "cell_type": "code",
   "execution_count": null,
   "metadata": {},
   "outputs": [],
   "source": []
  }
 ],
 "metadata": {
  "kernelspec": {
   "display_name": "Python 3",
   "language": "python",
   "name": "python3"
  },
  "language_info": {
   "codemirror_mode": {
    "name": "ipython",
    "version": 3
   },
   "file_extension": ".py",
   "mimetype": "text/x-python",
   "name": "python",
   "nbconvert_exporter": "python",
   "pygments_lexer": "ipython3",
   "version": "3.6.2"
  }
 },
 "nbformat": 4,
 "nbformat_minor": 2
}
